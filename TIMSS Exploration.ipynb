{
 "cells": [
  {
   "cell_type": "code",
   "execution_count": 1,
   "id": "sustainable-christmas",
   "metadata": {},
   "outputs": [],
   "source": [
    "# import necessary libraries\n",
    "import pandas as pd\n",
    "import numpy as np\n",
    "import glob\n",
    "import re\n",
    "pd.options.display.max_columns = None\n",
    "pd.options.display.max_rows = 100"
   ]
  },
  {
   "cell_type": "markdown",
   "id": "tutorial-velvet",
   "metadata": {},
   "source": [
    "# Load Data\n",
    "Import the 2019 TIMSS Data into six separate dataframes"
   ]
  },
  {
   "cell_type": "code",
   "execution_count": 20,
   "id": "annual-linux",
   "metadata": {},
   "outputs": [],
   "source": [
    "school = 0\n",
    "stud_ach = 0\n",
    "student = 0\n",
    "stud_teach = 0\n",
    "math_teach = 0\n",
    "sci_teach = 0\n",
    "df_list = []\n",
    "for file in glob.glob('T19_G8_SPSS Data/*.sav'):\n",
    "    if re.search('bcg',file) != None:\n",
    "        try:\n",
    "            school = school.append(pd.read_spss(file), ignore_index=True, sort=False)\n",
    "        except:\n",
    "            school = pd.read_spss(file)\n",
    "    elif re.search('bsa',file) != None:\n",
    "        try:\n",
    "            stud_ach = stud_ach.append(pd.read_spss(file), ignore_index=True, sort=False)\n",
    "        except:\n",
    "            stud_ach = pd.read_spss(file)\n",
    "    elif re.search('bsg',file) != None:\n",
    "        try:\n",
    "            student = student.append(pd.read_spss(file), ignore_index=True, sort=False)\n",
    "        except:\n",
    "            student = pd.read_spss(file)\n",
    "            student.name = 'student'\n",
    "            df_list.append(student)\n",
    "    elif re.search('bst',file) != None:\n",
    "        try:\n",
    "            stud_teach = stud_teach.append(pd.read_spss(file), ignore_index=True, sort=False)\n",
    "        except:\n",
    "            stud_teach = pd.read_spss(file)\n",
    "            stud_teach.name = 'stud_teach'\n",
    "            df_list.append(stud_teach)\n",
    "    elif re.search('btm',file) != None:\n",
    "        try:\n",
    "            math_teach = math_teach.append(pd.read_spss(file), ignore_index=True, sort=False)\n",
    "        except:\n",
    "            math_teach = pd.read_spss(file)\n",
    "            math_teach.name = 'math_teach'\n",
    "            df_list.append(math_teach)\n",
    "    elif re.search('bts',file) != None:\n",
    "        try:\n",
    "            sci_teach = sci_teach.append(pd.read_spss(file), ignore_index=True, sort=False)\n",
    "        except:\n",
    "            sci_teach = pd.read_spss(file)\n",
    "            sci_teach.name = 'sci_teach'\n",
    "            df_list.append(sci_teach)"
   ]
  },
  {
   "cell_type": "code",
   "execution_count": 21,
   "id": "american-village",
   "metadata": {},
   "outputs": [
    {
     "data": {
      "text/plain": [
       "(9925, 98)"
      ]
     },
     "execution_count": 21,
     "metadata": {},
     "output_type": "execute_result"
    }
   ],
   "source": [
    "school.shape"
   ]
  },
  {
   "cell_type": "code",
   "execution_count": 22,
   "id": "recovered-batman",
   "metadata": {},
   "outputs": [
    {
     "data": {
      "text/plain": [
       "(295453, 2073)"
      ]
     },
     "execution_count": 22,
     "metadata": {},
     "output_type": "execute_result"
    }
   ],
   "source": [
    "stud_ach.shape"
   ]
  },
  {
   "cell_type": "code",
   "execution_count": 23,
   "id": "joined-house",
   "metadata": {},
   "outputs": [
    {
     "data": {
      "text/plain": [
       "(295453, 455)"
      ]
     },
     "execution_count": 23,
     "metadata": {},
     "output_type": "execute_result"
    }
   ],
   "source": [
    "student.shape"
   ]
  },
  {
   "cell_type": "code",
   "execution_count": 24,
   "id": "employed-handy",
   "metadata": {},
   "outputs": [
    {
     "data": {
      "text/plain": [
       "(775679, 115)"
      ]
     },
     "execution_count": 24,
     "metadata": {},
     "output_type": "execute_result"
    }
   ],
   "source": [
    "stud_teach.shape"
   ]
  },
  {
   "cell_type": "code",
   "execution_count": 25,
   "id": "apart-siemens",
   "metadata": {},
   "outputs": [
    {
     "data": {
      "text/plain": [
       "(14571, 158)"
      ]
     },
     "execution_count": 25,
     "metadata": {},
     "output_type": "execute_result"
    }
   ],
   "source": [
    "math_teach.shape"
   ]
  },
  {
   "cell_type": "code",
   "execution_count": 26,
   "id": "vertical-vegetation",
   "metadata": {},
   "outputs": [
    {
     "data": {
      "text/plain": [
       "(22648, 169)"
      ]
     },
     "execution_count": 26,
     "metadata": {},
     "output_type": "execute_result"
    }
   ],
   "source": [
    "sci_teach.shape"
   ]
  },
  {
   "cell_type": "code",
   "execution_count": 31,
   "id": "flexible-hospital",
   "metadata": {},
   "outputs": [],
   "source": [
    "school.name = 'school'\n",
    "stud_ach.name = 'stud_ach'\n",
    "student.name = 'student'\n",
    "stud_teach.name = 'stud_teach'\n",
    "math_teach.name = 'math_teach'\n",
    "sci_teach.name = 'sci_teach'"
   ]
  },
  {
   "cell_type": "code",
   "execution_count": 29,
   "id": "active-state",
   "metadata": {},
   "outputs": [],
   "source": [
    "school.to_csv('data/{}.csv'.format(school.name), index = False)"
   ]
  },
  {
   "cell_type": "code",
   "execution_count": 30,
   "id": "ahead-destiny",
   "metadata": {},
   "outputs": [],
   "source": [
    "stud_ach.to_csv('data/{}.csv'.format(stud_ach.name), index = False)"
   ]
  },
  {
   "cell_type": "code",
   "execution_count": 32,
   "id": "potential-communications",
   "metadata": {},
   "outputs": [],
   "source": [
    "student.to_csv('data/{}.csv'.format(student.name), index = False)\n",
    "stud_teach.to_csv('data/{}.csv'.format(stud_teach.name), index = False)\n",
    "math_teach.to_csv('data/{}.csv'.format(math_teach.name), index = False)\n",
    "sci_teach.to_csv('data/{}.csv'.format(sci_teach.name), index = False)"
   ]
  },
  {
   "cell_type": "code",
   "execution_count": null,
   "id": "affiliated-better",
   "metadata": {},
   "outputs": [],
   "source": []
  }
 ],
 "metadata": {
  "kernelspec": {
   "display_name": "Python [conda env:capstone]",
   "language": "python",
   "name": "conda-env-capstone-py"
  },
  "language_info": {
   "codemirror_mode": {
    "name": "ipython",
    "version": 3
   },
   "file_extension": ".py",
   "mimetype": "text/x-python",
   "name": "python",
   "nbconvert_exporter": "python",
   "pygments_lexer": "ipython3",
   "version": "3.9.1"
  }
 },
 "nbformat": 4,
 "nbformat_minor": 5
}
